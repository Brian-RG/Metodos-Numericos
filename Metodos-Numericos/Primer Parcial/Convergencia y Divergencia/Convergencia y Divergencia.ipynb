{
 "cells": [
  {
   "cell_type": "code",
   "execution_count": 0,
   "metadata": {
    "collapsed": false
   },
   "outputs": [
   ],
   "source": [
    "#Ejemplo de convergencia\n",
    "import numpy as np\n",
    "import matplotlib.pyplot as plt\n",
    "def xnew(xprev):\n",
    "    return (2*xprev**2+3)/5\n",
    "x0=0\n",
    "iteraciones=0\n",
    "x1=0\n",
    "x0array=[]\n",
    "x1array=[]\n",
    "for i in range(100):\n",
    "    x1 = xnew(x0)\n",
    "    x0array.append(x0)\n",
    "    x1array.append(x1)\n",
    "    if abs(x1-x0)< 0.000001:\n",
    "        break\n",
    "    x0=x1\n",
    "    iteraciones +=1\n",
    "print (\"La raiz es %.5f\"%x1)\n",
    "print(\"Numero de iteraciones %d\"%iteraciones)\n",
    "\n",
    "plt.plot(x0array,x1array)\n",
    "plt.grid()\n"
   ]
  },
  {
   "cell_type": "code",
   "execution_count": 0,
   "metadata": {
    "collapsed": false
   },
   "outputs": [
   ],
   "source": [
    "#Ejemplo de divergencia\n",
    "import numpy as np\n",
    "import matplotlib.pyplot as plt\n",
    "def xnew(xprev):\n",
    "    return (2*xprev**2+3)/5\n",
    "x0=2\n",
    "iteraciones=0\n",
    "x1=0\n",
    "x0array=[]\n",
    "x1array=[]\n",
    "for i in range(10):\n",
    "    x1 = xnew(x0)\n",
    "    x0array.append(x0)\n",
    "    x1array.append(x1)\n",
    "    if abs(x1-x0)< 0.000001:\n",
    "        break\n",
    "    x0=x1\n",
    "    iteraciones +=1\n",
    "print (\"La raiz es %.5f\"%x1)\n",
    "print(\"Numero de iteraciones %d\"%iteraciones)\n",
    "\n",
    "plt.plot(x0array,x1array)\n",
    "plt.grid()\n"
   ]
  }
 ],
 "metadata": {
  "kernelspec": {
   "display_name": "Python 3 (Ubuntu Linux)",
   "language": "python",
   "name": "python3"
  },
  "language_info": {
   "codemirror_mode": {
    "name": "ipython",
    "version": 3
   },
   "file_extension": ".py",
   "mimetype": "text/x-python",
   "name": "python",
   "nbconvert_exporter": "python",
   "pygments_lexer": "ipython3",
   "version": "3.6.6"
  }
 },
 "nbformat": 4,
 "nbformat_minor": 0
}