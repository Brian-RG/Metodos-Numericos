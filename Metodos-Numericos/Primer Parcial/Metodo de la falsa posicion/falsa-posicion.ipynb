{
 "cells": [
  {
   "cell_type": "code",
   "execution_count": 0,
   "metadata": {
    "collapsed": false
   },
   "outputs": [
   ],
   "source": [
    "def f(x):\n",
    "    return (x**2)-10\n",
    "#probar con 3 rangos x0,x1 ; y0,y1; z0,z1\n",
    "\n",
    "def Falsa(x0,x1):\n",
    "    print(\"Usando de rango \" +str(x0) + \" y \" +str(x1))\n",
    "    for i in range(100):\n",
    "        fx0=f(x0)\n",
    "        fx1=f(x1)\n",
    "        if(fx0*fx1>0):\n",
    "            #Checa, si la multiplicación da arriba de 0 es porque o ambos son positivos, o ambos son negativos, entonces en ningún momento         te da la raíz\n",
    "            print(\"No hay raíz en el rango dado\")\n",
    "            break\n",
    "        xr=x0- ( (f(x0)*(x1-x0)) /(f(x1)-f(x0)))\n",
    "        fxr=f(xr)\n",
    "        if(fxr*fx1>0):\n",
    "            x1=xr\n",
    "        elif(fxr*fx0>0):\n",
    "            x0=xr\n",
    "        if(abs(fxr)<0.00000001):\n",
    "            print(\"La raíz es \"+str(xr))\n",
    "            break\n",
    "            \n",
    "Falsa(3,3.2)"
   ]
  }
 ],
 "metadata": {
  "kernelspec": {
   "display_name": "Python 3 (Ubuntu Linux)",
   "language": "python",
   "name": "python3"
  }
 },
 "nbformat": 4,
 "nbformat_minor": 0
}