
{
 "cells": [
  {
   "cell_type": "code",
   "execution_count": 3,
   "metadata": {
    "collapsed": false
   },
   "outputs": [
    {
     "name": "stdout",
     "output_type": "stream",
     "text": [
      "La raíz es 7.369724135211046\n"
     ]
    }
   ],
   "source": [
    "#f'(x0)= f(x0)/x0-xr\n",
    "#x0-xr=f(x0)/f'(x0)\n",
    "#xr=x0-f(x0)/f'(x0)\n",
    "def g(x):\n",
    "    return (x**4)-(8.6*(x**3))-(35.51*(x**2))+(464*x)-998.46\n",
    "\n",
    "def gprima(x):\n",
    "    return (4*(x**3))-(25.8*(x**2))-(71.02*x)+464\n",
    "\n",
    "def Newton(x0):\n",
    "    for e in range(100):\n",
    "        xr=x0-(g(x0)/gprima(x0))\n",
    "        if(abs(g(xr))<0.0001):\n",
    "            print(\"La raíz es \" + str(xr))\n",
    "            break\n",
    "        x0=xr\n",
    "Newton(7.35)"
   ]
  },
  {
   "cell_type": "code",
   "execution_count": 0,
   "metadata": {
    "collapsed": false
   },
   "outputs": [
   ],
   "source": [
   ]
  }
 ],
 "metadata": {
  "kernelspec": {
   "display_name": "Python 3 (Ubuntu Linux)",
   "language": "python",
   "name": "python3"
  }
 },
 "nbformat": 4,
 "nbformat_minor": 0
}
